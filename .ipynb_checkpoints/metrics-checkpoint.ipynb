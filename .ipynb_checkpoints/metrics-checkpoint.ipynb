{
 "cells": [
  {
   "cell_type": "markdown",
   "id": "fd3461cf",
   "metadata": {},
   "source": [
    "## Entropy"
   ]
  },
  {
   "cell_type": "code",
   "execution_count": null,
   "id": "5dda5f5d",
   "metadata": {},
   "outputs": [],
   "source": [
    "def EN(inputs):\n",
    "    batch, c, h, w = inputs.shape\n",
    "    entropies = torch.zeros(batch).to(torch.device(\"cuda:1\" if torch.cuda.is_available() else \"cpu\"))\n",
    "    # transform value from 1 to 256\n",
    "    inputs_int = (inputs * 255).int() + 1\n",
    "    for i in range(batch):\n",
    "        entropy = torch.zeros(c)\n",
    "        for j in range(c):\n",
    "            # calculate grey level and its pixel number\n",
    "            value, counts = torch.unique(inputs_int[i, j, :, :], return_counts=True)\n",
    "            p = counts / counts.sum()\n",
    "            # only for pytorch 1.9.0 we can use torch.special\n",
    "            # entropy[j] = torch.special.entr(p).sum()\n",
    "            # for pytorch 1.7.0 use torch.log\n",
    "            entropy[j] = (-p * torch.log(p)).sum()\n",
    "        entropies[i] = torch.mean(entropy)\n",
    "\n",
    "    return entropies"
   ]
  },
  {
   "cell_type": "code",
   "execution_count": null,
   "id": "dd5fa2d6",
   "metadata": {},
   "outputs": [],
   "source": []
  },
  {
   "cell_type": "markdown",
   "id": "c5ac007c",
   "metadata": {},
   "source": [
    "## Standard Deviation"
   ]
  },
  {
   "cell_type": "code",
   "execution_count": null,
   "id": "9f7ef911",
   "metadata": {},
   "outputs": [],
   "source": [
    "def std(inputs):\n",
    "    # transform value from 1 to 256\n",
    "    inputs = (inputs * 255).float() + 1\n",
    "    std_batch = torch.std(inputs, dim=(2, 3))\n",
    "    std_batch = torch.mean(std_batch, dim=-1)\n",
    "\n",
    "    return std_batch"
   ]
  },
  {
   "cell_type": "code",
   "execution_count": null,
   "id": "fe6d8729",
   "metadata": {},
   "outputs": [],
   "source": []
  },
  {
   "cell_type": "markdown",
   "id": "a977f74a",
   "metadata": {},
   "source": [
    "## Spatial Frequancy"
   ]
  },
  {
   "cell_type": "code",
   "execution_count": null,
   "id": "34c6ad07",
   "metadata": {},
   "outputs": [],
   "source": [
    "def spatial_freq(inputs):\n",
    "    batch, c, h, w = inputs.shape\n",
    "    inputs_int = (inputs * 255).int() + 1\n",
    "    rf = torch.pow((inputs_int[:, :, 1:, :]-inputs_int[:, :, :h-1, :]), 2)\n",
    "    rf = torch.sum(rf, dim=(2, 3))\n",
    "    cf = torch.pow((inputs_int[:, :, :, 1:] - inputs_int[:, :, :, :w-1]), 2)\n",
    "    cf = torch.sum(cf, dim=(2, 3))\n",
    "    sf = torch.pow((rf+cf), 0.5)\n",
    "    sf = torch.mean(sf, dim=-1)\n",
    "\n",
    "    return sf"
   ]
  },
  {
   "cell_type": "code",
   "execution_count": null,
   "id": "42d2b2c9",
   "metadata": {},
   "outputs": [],
   "source": []
  },
  {
   "cell_type": "markdown",
   "id": "c7fff50e",
   "metadata": {},
   "source": [
    "## SSIM"
   ]
  },
  {
   "cell_type": "code",
   "execution_count": null,
   "id": "1db295bf",
   "metadata": {},
   "outputs": [],
   "source": []
  }
 ],
 "metadata": {
  "kernelspec": {
   "display_name": "Python [conda env:pytorch1102] *",
   "language": "python",
   "name": "conda-env-pytorch1102-py"
  },
  "language_info": {
   "codemirror_mode": {
    "name": "ipython",
    "version": 3
   },
   "file_extension": ".py",
   "mimetype": "text/x-python",
   "name": "python",
   "nbconvert_exporter": "python",
   "pygments_lexer": "ipython3",
   "version": "3.7.11"
  }
 },
 "nbformat": 4,
 "nbformat_minor": 5
}
